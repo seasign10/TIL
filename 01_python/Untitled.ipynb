{
 "cells": [
  {
   "cell_type": "markdown",
   "metadata": {},
   "source": [
    "**여기는 문제풀이를 위한 연습장**"
   ]
  },
  {
   "cell_type": "code",
   "execution_count": 8,
   "metadata": {},
   "outputs": [
    {
     "ename": "SyntaxError",
     "evalue": "invalid syntax (<ipython-input-8-c0d66ed52e44>, line 17)",
     "output_type": "error",
     "traceback": [
      "\u001b[1;36m  File \u001b[1;32m\"<ipython-input-8-c0d66ed52e44>\"\u001b[1;36m, line \u001b[1;32m17\u001b[0m\n\u001b[1;33m    else:\u001b[0m\n\u001b[1;37m       ^\u001b[0m\n\u001b[1;31mSyntaxError\u001b[0m\u001b[1;31m:\u001b[0m invalid syntax\n"
     ]
    }
   ],
   "source": [
    "   \n",
    "def Palindrome(tomato):\n",
    "    if len(tomato) % 2 == 0:\n",
    "        num = len(tomato) // 2\n",
    "        front = tomato[0:num+1]\n",
    "        back = reverse(tomato[num:])\n",
    "        if front == back:\n",
    "            pass           \n",
    "    return 'True'\n",
    "\n",
    "#     elif len(tomato) % 2:\n",
    "#          front = tomato[0:num+2]\n",
    "#             back =reverse(tomato[num-1:])\n",
    "#             if front == back:\n",
    "#                 pass  \n",
    "#     return 'True'\n",
    "\n",
    "    else:\n",
    "        return 'False'\n",
    "\n",
    "    \n",
    "Palindrome(토마토)\n",
    "\n"
   ]
  },
  {
   "cell_type": "code",
   "execution_count": 14,
   "metadata": {},
   "outputs": [
    {
     "data": {
      "text/plain": [
       "True"
      ]
     },
     "execution_count": 14,
     "metadata": {},
     "output_type": "execute_result"
    }
   ],
   "source": [
    "# 긴 풀이\n",
    "# 짝수 - NA/AN\n",
    "# 홀수 - S/AS\n",
    "\n",
    "# word = 'test'\n",
    "# list(word)\n",
    "# => 한 방에 리스트로 만들 수 있는 방법\n",
    "\n",
    "def is_palindrome(word): # NAAN,  # SAD\n",
    "    list_word = list(word) # ['N', 'A', 'A', 'N'] ['S', 'A', 'S'] 홀수는 가운데 하나남는 것은 상관없음. 비교해도 의미x\n",
    "    # 리스트 요소의 양쪽 끝끼리 계속 비교하면서 진행\n",
    "    for i in range(len(list_word) // 2): # 2\n",
    "        if list_word[i] != list_word[-i-1]:\n",
    "            return False\n",
    "        return True\n",
    "\n",
    "is_palindrome('ASASASA')"
   ]
  },
  {
   "cell_type": "code",
   "execution_count": 18,
   "metadata": {},
   "outputs": [
    {
     "data": {
      "text/plain": [
       "True"
      ]
     },
     "execution_count": 18,
     "metadata": {},
     "output_type": "execute_result"
    }
   ],
   "source": [
    "# 짧은 풀이\n",
    "\n",
    "word = 'ASASASA'\n",
    "word == word[::-1] #역순을 이용한 슬라이싱, 처음부터 끝까지 -1로 슬라이싱해서 역순이 되는것,"
   ]
  },
  {
   "cell_type": "code",
   "execution_count": null,
   "metadata": {},
   "outputs": [],
   "source": []
  }
 ],
 "metadata": {
  "kernelspec": {
   "display_name": "Python 3",
   "language": "python",
   "name": "python3"
  },
  "language_info": {
   "codemirror_mode": {
    "name": "ipython",
    "version": 3
   },
   "file_extension": ".py",
   "mimetype": "text/x-python",
   "name": "python",
   "nbconvert_exporter": "python",
   "pygments_lexer": "ipython3",
   "version": "3.7.3"
  },
  "toc": {
   "base_numbering": 1,
   "nav_menu": {},
   "number_sections": true,
   "sideBar": true,
   "skip_h1_title": false,
   "title_cell": "Table of Contents",
   "title_sidebar": "Contents",
   "toc_cell": false,
   "toc_position": {},
   "toc_section_display": true,
   "toc_window_display": false
  }
 },
 "nbformat": 4,
 "nbformat_minor": 2
}
