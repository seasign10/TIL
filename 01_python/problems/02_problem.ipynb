{
 "cells": [
  {
   "cell_type": "markdown",
   "metadata": {},
   "source": [
    "# 과일 개수 골라내기\n",
    "\n",
    "> 장바구니에 아래와 같은 과일이 들어있고 과일 판별 리스트가 있습니다.\n",
    "\n",
    "```python\n",
    "basket_items = {'apples': 4, 'oranges': 19, 'kites': 3, 'sandwiches': 8}\n",
    "\n",
    "fruits = ['apples', 'oranges', 'pears', 'peaches', 'grapes', 'bananas']\n",
    "\n",
    "```\n",
    "> 현재 장바구니에는 과일이 몇개이고 과일이 아닌 것은 몇개인지 출력하시오.\n",
    "---\n",
    "```\n",
    "예시 출력)\n",
    "과일은 23개이고, 11개는 과일이 아닙니다..\n",
    "```"
   ]
  },
  {
   "cell_type": "code",
   "execution_count": null,
   "metadata": {},
   "outputs": [],
   "source": [
    "# basket_items = {'apples': 4, 'oranges': 19, 'kites': 3, 'sandwiches': 8}\n",
    "# fruits = ['apples', 'oranges', 'pears', 'peaches', 'grapes', 'bananas']\n",
    "# # 아래에 코드를 작성하세요.\n",
    "\n",
    "# fruit = 0\n",
    "# unfruit = 0\n",
    "# for key in basket_items.keys():\n",
    "#     if key in fruits:\n",
    "#         fruit += (basket_items[key])\n",
    "#     else:\n",
    "#         unfruit += (basket_items[key])\n",
    "\n",
    "# print(f'과일은 {fruit}개이고, {unfruit}개는 과일이 아닙니다..')"
   ]
  },
  {
   "cell_type": "code",
   "execution_count": null,
   "metadata": {},
   "outputs": [],
   "source": [
    "# 강사님 풀이\n",
    "# 딕셔너리 카운트가 포인트\n",
    "# 딕셔너리에서 키와 값을 모두 가져와서, 키과 과일 리스트에 있으면 특정 카운트에 그 키의 값을 계속해서 더한다.\n",
    "# 반대로 키가 반대로 과일 리스트에 없으면, 다른 카운트에 그 키의 값을 계속해서 더한다.\n",
    "fruit_count = 0\n",
    "not_fruit_count = 0\n",
    "\n",
    "for fruit, count in basket_items.items():\n",
    "    if fruit in fruits:\n",
    "        fruit_count += count\n",
    "    else:\n",
    "        not_fruit_count += count\n",
    "print(f'과일은 {fruit_count}개 이고, {not_fruit_count}개는 과일이 아닙니다..')"
   ]
  },
  {
   "cell_type": "markdown",
   "metadata": {},
   "source": [
    "# 영어 이름 출력하기 \n",
    "\n",
    "> 영어 이름은 가운데 이름을 가지고 있는 경우가 있습니다.\n",
    ">\n",
    "> 가운데 이름은 대문자로 축약해서 나타내는 코드를 작성해보세요.\n",
    "\n",
    "---\n",
    "```\n",
    "예시 입력)\n",
    "Alice Betty Catherine Davis\n",
    "```\n",
    "```\n",
    "예시 출력)\n",
    "Alice B. C. Davis\n",
    "```"
   ]
  },
  {
   "cell_type": "code",
   "execution_count": null,
   "metadata": {
    "scrolled": true
   },
   "outputs": [],
   "source": [
    "# 아래에 코드를 작성하세요.\n",
    "\n",
    "names = 'Alice Betty Catherine Davis'\n",
    "splited = names.split()\n",
    "#print(splited)\n",
    "result =[]\n",
    "for names in splited:\n",
    "    if names == splited[0]: # .split 쪼개주는 단계\n",
    "        print(names, end = ' ')\n",
    "    elif names == splited[-1]:\n",
    "        print (names)\n",
    "    else:\n",
    "        print(f'{names[0]}.',end = ' ')"
   ]
  },
  {
   "cell_type": "code",
   "execution_count": null,
   "metadata": {},
   "outputs": [],
   "source": [
    "# 강사님 풀이 \n",
    "\n",
    "name = input() #str\n",
    "# 띄어쓰기 기주으로 이름을 쓸 것.\n",
    "names = name.split()\n",
    "# 반복문을 통해 처음과 끝 요소를 제외한 나머지 요소들을 '대문자 + . ' 으로 변경한다. \n",
    "for i in range(1, len(names)-1): # 길이에서 마지막 1을 빼면 마지막 인덱스가 됨. , 가운데 이름만 뽑는 코드\n",
    "    names[i] = names[i][0].upper() + '.' # .upper 대문자로 바꾸는 명령어, 가운데 이름을 대문자와 . 으로 만 이뤄진 코드\n",
    "\n",
    "#리스트의 요소들을 합쳐 문자열로 바꾼다. => .join\n",
    "print(' '.join(names))"
   ]
  },
  {
   "cell_type": "markdown",
   "metadata": {},
   "source": [
    "# 구구단 출력하기\n",
    "> 2단부터 9단까지 반복문을 사용하여 구구단을 출력하세요.\n",
    "---\n",
    "```\n",
    "예시 출력)\n",
    "------- [2 단] -------\n",
    "2 X 1 = 2\n",
    "2 X 2 = 4\n",
    "2 X 3 = 6\n",
    "2 X 4 = 8\n",
    "2 X 5 = 10\n",
    "2 X 6 = 12\n",
    "2 X 7 = 14\n",
    "2 X 8 = 16\n",
    "2 X 9 = 18\n",
    "\n",
    "------- [3 단] -------\n",
    "...\n",
    "```"
   ]
  },
  {
   "cell_type": "code",
   "execution_count": null,
   "metadata": {},
   "outputs": [],
   "source": [
    "# 아래에 코드를 작성하세요.\n",
    "\n",
    "# 첫 반복문은 2부터 9까지 반복\n",
    "# 두번째 반복문은 1부터 9까지 반복\n",
    "for i in range(2, 10):\n",
    "    print(f'------- [{i} 단] -------')\n",
    "    for j in range(1, 10):\n",
    "        print(f'{i} X {j} = {i*j}')"
   ]
  },
  {
   "cell_type": "markdown",
   "metadata": {},
   "source": [
    "# 달력 출력하기\n",
    "\n",
    "> 1월 1일 월요일부터 12월 31일까지 달력을 출력하세요.\n",
    "\n",
    "---\n",
    "```\n",
    "예시 출력)\n",
    "         1 월\n",
    "Mo Tu We Th Fr Sa Su \n",
    " 1  2  3  4  5  6  7 \n",
    " 8  9 10 11 12 13 14 \n",
    "15 16 17 18 19 20 21 \n",
    "22 23 24 25 26 27 28 \n",
    "29 30 31 \n",
    "         2 월\n",
    "Mo Tu We Th Fr Sa Su \n",
    " 1  2  3  4  5  6  7 \n",
    " 8  9 10 11 12 13 14 \n",
    "15 16 17 18 19 20 21 \n",
    "22 23 24 25 26 27 28 \n",
    "\n",
    "         3 월\n",
    "Mo Tu We Th Fr Sa Su \n",
    " 1  2  3  4  5  6  7 \n",
    " 8  9 10 11 12 13 14 \n",
    "15 16 17 18 19 20 21 \n",
    "22 23 24 25 26 27 28 \n",
    "29 30 31\n",
    "...\n",
    "```"
   ]
  },
  {
   "cell_type": "code",
   "execution_count": 2,
   "metadata": {},
   "outputs": [],
   "source": [
    "calendar = { \n",
    "        1: 31, 2: 28, 3: 31, 4: 30, 5: 31,6: 30, \n",
    "        7: 31, 8: 31, 9: 30, 10: 31, 11: 30, 12: 31 \n",
    "} \n",
    "weeks = ['Mo', 'Tu', 'We', 'Th', 'Fr', 'Sa', 'Su'] \n",
    "# 아래에 코드를 작성하세요.\n"
   ]
  },
  {
   "cell_type": "code",
   "execution_count": 5,
   "metadata": {},
   "outputs": [
    {
     "name": "stdout",
     "output_type": "stream",
     "text": [
      "         1월\n",
      "Mo Tu We Th Fr Sa Su \n",
      " 1  2  3  4  5  6  7 \n",
      " 8  9 10 11 12 13 14 \n",
      "15 16 17 18 19 20 21 \n",
      "22 23 24 25 26 27 28 \n",
      "29 30 31 \n",
      "         2월\n",
      "Mo Tu We Th Fr Sa Su \n",
      " 1  2  3  4  5  6  7 \n",
      " 8  9 10 11 12 13 14 \n",
      "15 16 17 18 19 20 21 \n",
      "22 23 24 25 26 27 28 \n",
      "\n",
      "         3월\n",
      "Mo Tu We Th Fr Sa Su \n",
      " 1  2  3  4  5  6  7 \n",
      " 8  9 10 11 12 13 14 \n",
      "15 16 17 18 19 20 21 \n",
      "22 23 24 25 26 27 28 \n",
      "29 30 31 \n",
      "         4월\n",
      "Mo Tu We Th Fr Sa Su \n",
      " 1  2  3  4  5  6  7 \n",
      " 8  9 10 11 12 13 14 \n",
      "15 16 17 18 19 20 21 \n",
      "22 23 24 25 26 27 28 \n",
      "29 30 \n",
      "         5월\n",
      "Mo Tu We Th Fr Sa Su \n",
      " 1  2  3  4  5  6  7 \n",
      " 8  9 10 11 12 13 14 \n",
      "15 16 17 18 19 20 21 \n",
      "22 23 24 25 26 27 28 \n",
      "29 30 31 \n",
      "         6월\n",
      "Mo Tu We Th Fr Sa Su \n",
      " 1  2  3  4  5  6  7 \n",
      " 8  9 10 11 12 13 14 \n",
      "15 16 17 18 19 20 21 \n",
      "22 23 24 25 26 27 28 \n",
      "29 30 \n",
      "         7월\n",
      "Mo Tu We Th Fr Sa Su \n",
      " 1  2  3  4  5  6  7 \n",
      " 8  9 10 11 12 13 14 \n",
      "15 16 17 18 19 20 21 \n",
      "22 23 24 25 26 27 28 \n",
      "29 30 31 \n",
      "         8월\n",
      "Mo Tu We Th Fr Sa Su \n",
      " 1  2  3  4  5  6  7 \n",
      " 8  9 10 11 12 13 14 \n",
      "15 16 17 18 19 20 21 \n",
      "22 23 24 25 26 27 28 \n",
      "29 30 31 \n",
      "         9월\n",
      "Mo Tu We Th Fr Sa Su \n",
      " 1  2  3  4  5  6  7 \n",
      " 8  9 10 11 12 13 14 \n",
      "15 16 17 18 19 20 21 \n",
      "22 23 24 25 26 27 28 \n",
      "29 30 \n",
      "        10월\n",
      "Mo Tu We Th Fr Sa Su \n",
      " 1  2  3  4  5  6  7 \n",
      " 8  9 10 11 12 13 14 \n",
      "15 16 17 18 19 20 21 \n",
      "22 23 24 25 26 27 28 \n",
      "29 30 31 \n",
      "        11월\n",
      "Mo Tu We Th Fr Sa Su \n",
      " 1  2  3  4  5  6  7 \n",
      " 8  9 10 11 12 13 14 \n",
      "15 16 17 18 19 20 21 \n",
      "22 23 24 25 26 27 28 \n",
      "29 30 \n",
      "        12월\n",
      "Mo Tu We Th Fr Sa Su \n",
      " 1  2  3  4  5  6  7 \n",
      " 8  9 10 11 12 13 14 \n",
      "15 16 17 18 19 20 21 \n",
      "22 23 24 25 26 27 28 \n",
      "29 30 31 \n"
     ]
    }
   ],
   "source": [
    "# 딕셔너리의 키, 값을 반복문을 통해 이용한다.\n",
    "\n",
    "for month, count_day in calendar.items():# for 뒤에 month는 앞 의값, count_day는 뒤의 값이 됨.\n",
    "    count = 0 # for문의 위에 있으면 카운트가 초기화가 되지 않기 때문에, 7에 맞춰서 다시 찍고 찍으려면 for문 아래에 기입 month 초기화\n",
    "    print(f'{month:10}월') #아래의 링크와 주석 참고, 띄어쓰기를 해주기 위한 코드 {:n}\n",
    "    for day in weeks:\n",
    "        print(f'{day}', end=' ') # end는 한 문장 끝 마다 기입할 것을 넣는 코드, enter가 쳐지면 안되기때문에 기입.\n",
    "        #                          왜냐하면 print에는 enter가 보이진 않지만 명령어가 실행 되기 때문.\n",
    "    print()\n",
    "    \n",
    "    for i in range(1, count_day+1):\n",
    "        print(f'{i:2}', end=' ')\n",
    "        count += 1\n",
    "        if count == 7:\n",
    "            print()\n",
    "            count = 0\n",
    "    print() # 각 month 마다 띄워 써주기 위해 month의 for문에 씀."
   ]
  },
  {
   "cell_type": "markdown",
   "metadata": {},
   "source": [
    "https://pyformat.info/\n",
    "Padding and aligning strings - Align left: new 참고"
   ]
  },
  {
   "cell_type": "markdown",
   "metadata": {},
   "source": [
    "# 개인정보보호\n",
    "> 사용자의 핸드폰번호를 입력 받으려고한다. 개인정보 보호를 위하여 뒷자리 4자리를 제외하고는 마스킹 처리를 하려고한다.\n",
    ">\n",
    "> 핸드폰번호는 010으로 시작해야하고 11자리여야한다. 핸드폰번호를 입력하지 않았다면 \"핸드폰번호를 입력하세요\"를 출력한다\n",
    "\n",
    "```\n",
    "예시 입력)\n",
    "01012341234\n",
    "예시 출력)\n",
    "*******1234\n",
    "```"
   ]
  },
  {
   "cell_type": "code",
   "execution_count": null,
   "metadata": {
    "scrolled": false
   },
   "outputs": [],
   "source": [
    "# 아래에 코드를 작성하세요.\n",
    "phone = input()\n",
    "phone_m = phone.replace(phone[:7], '*'*6)\n",
    "\n",
    "if phone[:3] == '010' and len(phone) == 11:\n",
    "    print(phone_m)\n",
    "else:\n",
    "    print('핸드폰 번호를 입력하세요.') \n"
   ]
  },
  {
   "cell_type": "code",
   "execution_count": null,
   "metadata": {},
   "outputs": [],
   "source": [
    "# 강사님 풀이\n",
    "\n",
    "phone = input()\n",
    "if phone [0:3] == '010' and len(phone) == 11:\n",
    "    # pass를 이용한 print를 통해 제대로 if와 else문이 잘 작동하는지 확인 해주는것이 좋다.\n",
    "    result = '*' * 7 + phone[-4:] # -4는 거꾸로 슬라이싱한것, 거꾸로 슬라이싱 할 수도 있다. 뒷 네자리만 가져온 것.\n",
    "    print(result)\n",
    "else:\n",
    "    print('핸드폰 번호를 입력해주세요.')"
   ]
  },
  {
   "cell_type": "code",
   "execution_count": null,
   "metadata": {},
   "outputs": [],
   "source": [
    "phone = input()\n",
    "if phone [0:3] == '010' and len(phone) == 11:\n",
    "    # pass를 이용한 print를 통해 제대로 if와 else문이 잘 작동하는지 확인 해주는것이 좋다.\n",
    "    print(f'{phone[-4:]:*>11}') # phone이라는 것을 콜론으로 묶어줌 :>11 >는 오른쪽 정렬 위의 달력출력하기에 달린 주석 참고\n",
    "    # 꺽새(>, <)와 콜론(:)사이에 언더바(_)를 넣어주면 빈공간을 채우겠다는 뜻 => *를 사이에 넣어주면 *가 대신 채워짐\n",
    "else:\n",
    "    print('핸드폰 번호를 입력해주세요.')"
   ]
  },
  {
   "cell_type": "markdown",
   "metadata": {},
   "source": [
    "# 정중앙\n",
    "> 사용자가 입력한 문자열중 가운데 글자를 출력하라. 문자열이 짝수라면 가운데 두글자를 출력하라"
   ]
  },
  {
   "cell_type": "code",
   "execution_count": 1,
   "metadata": {},
   "outputs": [
    {
     "name": "stdout",
     "output_type": "stream",
     "text": [
      "ㄴㄹㅇㄹㄷ\n",
      "ㅇ\n"
     ]
    }
   ],
   "source": [
    "# 아래에 코드를 작성하세요.\n",
    "text = input()\n",
    "num = len(text) // 2 # //는 나누고 나머지를 버림 => 몫 무조건 2를 나눈다 (반으로 쪼개는 느낌)\n",
    "\n",
    "if len(text) % 2: # 2로 나눠서 (==1 생략 1이상은 True값) 홀수를 정의 \n",
    "    middle = text[num]\n",
    "else: # 홀수가 아닌 짝수라면 가운데 두 글자를 출력해야 한다. 위에서  반으로 쪼개진 인덱스에서 앞뒤로 -1, +1 하면 두글자를 추출해낼 수 있다.\n",
    "    middle = text[num-1:num+1]\n",
    "print(middle)"
   ]
  },
  {
   "cell_type": "markdown",
   "metadata": {},
   "source": [
    "# 소수 찾기"
   ]
  },
  {
   "cell_type": "markdown",
   "metadata": {},
   "source": [
    "> 조건, 반복문을 응용하여 numbers 리스트의 요소들이 소수인지 아닌지 판단하는 코드를 작성하라.\n",
    "\n",
    "```python\n",
    "numbers = [26, 39, 51, 53, 57, 79, 85]\n",
    "\n",
    "# 출력 예시\n",
    "26 는 소수가 아닙니다. 2 는 26 의 인수입니다.\n",
    "39 는 소수가 아닙니다. 3 는 39 의 인수입니다.\n",
    "51 는 소수가 아닙니다. 3 는 51 의 인수입니다.\n",
    "53 는 소수입니다.\n",
    "57 는 소수가 아닙니다. 3 는 57 의 인수입니다.\n",
    "79 는 소수입니다.\n",
    "85 는 소수가 아닙니다. 5 는 85 의 인수입니다.\n",
    "```"
   ]
  },
  {
   "cell_type": "code",
   "execution_count": null,
   "metadata": {},
   "outputs": [],
   "source": [
    "numbers = [26, 39, 51, 53, 57, 79, 85]\n",
    "# 아래에 코드를 작성하세요."
   ]
  },
  {
   "cell_type": "code",
   "execution_count": null,
   "metadata": {},
   "outputs": [],
   "source": [
    "# 반복문의 else 를 사용하는 것이 포인트 ! => 반복문이 끝까지 다 돈다음에 else가 돌고, break와 같은 명령이 들어가면 실행되지 X\n",
    "\n",
    "for number in numbers:\n",
    "    for x in range(2, number): # 아래의 ?표가 돌아야 하기 때문에 for문을 작성,\n",
    "        #1이아닌 2부터 자기자신의 사이에서 나눠지는 값이 있으면 소수인지 아닌지를 알 수 있다.\n",
    "        if number % x == 0: # number % ? == 0: 1이아닌 나머지로 나눠지면 소수가 아닌 것 0이면 소수인것\n",
    "            print(f'{number} 는 소수가 아닙니다. {x} 는 {number} 의 인수입니다.')\n",
    "            break # 다른 인수가 있더라도 더 나눌 필요가 없기 때문에(이미 소수가 아닌것을 알았기 떄문에) 멈춘다.\n",
    "    else:\n",
    "        print(f'{number}는 소수입니다.')\n"
   ]
  },
  {
   "cell_type": "code",
   "execution_count": null,
   "metadata": {},
   "outputs": [],
   "source": []
  }
 ],
 "metadata": {
  "kernelspec": {
   "display_name": "Python 3",
   "language": "python",
   "name": "python3"
  },
  "language_info": {
   "codemirror_mode": {
    "name": "ipython",
    "version": 3
   },
   "file_extension": ".py",
   "mimetype": "text/x-python",
   "name": "python",
   "nbconvert_exporter": "python",
   "pygments_lexer": "ipython3",
   "version": "3.7.3"
  },
  "latex_envs": {
   "LaTeX_envs_menu_present": true,
   "autoclose": false,
   "autocomplete": true,
   "bibliofile": "biblio.bib",
   "cite_by": "apalike",
   "current_citInitial": 1,
   "eqLabelWithNumbers": true,
   "eqNumInitial": 1,
   "hotkeys": {
    "equation": "Ctrl-E",
    "itemize": "Ctrl-I"
   },
   "labels_anchors": false,
   "latex_user_defs": false,
   "report_style_numbering": false,
   "user_envs_cfg": false
  },
  "toc": {
   "base_numbering": 1,
   "nav_menu": {},
   "number_sections": true,
   "sideBar": true,
   "skip_h1_title": false,
   "title_cell": "Table of Contents",
   "title_sidebar": "Contents",
   "toc_cell": false,
   "toc_position": {},
   "toc_section_display": true,
   "toc_window_display": false
  }
 },
 "nbformat": 4,
 "nbformat_minor": 2
}
