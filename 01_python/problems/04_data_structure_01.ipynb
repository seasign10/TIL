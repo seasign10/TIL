{
 "cells": [
  {
   "cell_type": "markdown",
   "metadata": {},
   "source": [
    "# 소대소대\n",
    "\n",
    "> 단어의 짝수번째 알파벳은 대문자로, 홀수번째 알파벳은 소문자로 바꾼 문자열을 return 하는 함수 `up_and_low`을 작성하세요.\n",
    "\n",
    "예시)\n",
    "```python\n",
    "print(up_and_low('appleppie')) #=> aPpLePiE\n",
    "print(up_and_low('spaceship')) #=> sPaCeShIp\n",
    "```"
   ]
  },
  {
   "cell_type": "code",
   "execution_count": null,
   "metadata": {},
   "outputs": [],
   "source": [
    "# 여기에 코드를 작성하세요.\n",
    "def up_and_low(words):\n",
    "    up_swap_low = ''\n",
    "    for idx, word in enumerate(words):\n",
    "        if idx%2:\n",
    "            up_swap_low += word.upper()\n",
    "        else:\n",
    "            up_swap_low += word.lower()\n",
    "    return up_swap_low"
   ]
  },
  {
   "cell_type": "code",
   "execution_count": null,
   "metadata": {},
   "outputs": [],
   "source": [
    "# 강사님 풀이\n",
    "\n",
    "def up_and_low(word):\n",
    "    new_str = ''\n",
    "    for idx, char in enumerate(word):\n",
    "        if idx % 2: # 인덱스상 홀수번 째로 해야 짝수번째 글자라는 조건에 부합함\n",
    "            new_str += char.upper()\n",
    "        else:\n",
    "            new_str += char.lower()\n",
    "    return new_str\n",
    "\n",
    "# Comprehension\n",
    "\n",
    "def up_and_low(word):\n",
    "    new_list = [char.upper() if idx%2 else char.lower() for idx, char in enumerate(word)]\n",
    "#     print(new_list)\n",
    "    return ''.join(new_list)"
   ]
  },
  {
   "cell_type": "code",
   "execution_count": null,
   "metadata": {},
   "outputs": [],
   "source": [
    "# 해당 코드를 통해 올바른 결과가 나오는지 확인하세요.\n",
    "print(up_and_low('appleppie'))\n",
    "print(up_and_low('spaceship'))"
   ]
  },
  {
   "cell_type": "markdown",
   "metadata": {},
   "source": [
    "# 통과한 시험\n",
    "\n",
    "> 딕셔너리 형태로 언어 및 각 테스트의 결과가 주어지면 테스트 점수가 60 이상인 언어 목록의 결과를 내림차순으로 정렬된 리스트를 반환하는 `passpass` 함수를 작성하세요. (중복되는 점수는 없습니다.)\n",
    "\n",
    "예시)\n",
    "\n",
    "```python\n",
    "passpass({'Java': 10, 'Ruby': 80, 'Python': 65}) #=> ['Ruby', 'Python']\n",
    "```"
   ]
  },
  {
   "cell_type": "code",
   "execution_count": null,
   "metadata": {},
   "outputs": [],
   "source": [
    "# 여기에 코드를 작성하세요.\n",
    "def passpass(dictionary):\n",
    "    pass_subject = []\n",
    "    for subject, score in dictionary.items():\n",
    "        if score >= 60:\n",
    "            pass_subject.append(subject)\n",
    "#     pass_subject = pass_subject.sort(reverse=True)\n",
    "    return sorted(pass_subject, reverse = True)"
   ]
  },
  {
   "cell_type": "code",
   "execution_count": null,
   "metadata": {},
   "outputs": [],
   "source": [
    "# 강사님 풀이\n",
    "# 내림차순 / 값이 60점 이상인 애들을 리스트에 넣기 / 새로 만든 리스트에 (60점 이상인 애들_리스트) 원본 딕셔너리의 키의 값과 비교해서 같으면 그 키를 가져오면 됨\n",
    "def passpass(results):\n",
    "    # 60점 이상인 점수 뽑아보기 ( + 내림차순)\n",
    "    list_1 = []\n",
    "    for value in sorted(results.values(), reverse=True):\n",
    "        # help(sorted)를 뽑아내보면 reverse가 False인 상태가 기본값인 것을 알수 있다. True값을 넣어주면 오름차순을 내림차순으로 바꿀 수 있다.\n",
    "        if value >= 60:\n",
    "            list_1.append(value)\n",
    "    # list_1 을 반복해서 원본 딕셔너리의 값과 같은 상황인 순간에 그 키를 새로운 리스트에 넣는다.\n",
    "    list_2 = []\n",
    "    for num in list_1:\n",
    "        for key, value in results.items():\n",
    "            if num == value:\n",
    "                list_2.append(key)\n",
    "    return list_2"
   ]
  },
  {
   "cell_type": "code",
   "execution_count": null,
   "metadata": {},
   "outputs": [],
   "source": [
    "# 해당 코드를 통해 올바른 결과가 나오는지 확인하세요.\n",
    "print(passpass({'Java': 10, 'Ruby': 80, 'Python': 65}))"
   ]
  },
  {
   "cell_type": "markdown",
   "metadata": {},
   "source": [
    "# 삼각수\n",
    "\n",
    "> 삼각수는 1, 1+2, 1+2+3, 1+2+3+4, ... 의 결과에 해당하는 수를 뜻합니다. \n",
    ">\n",
    "> 따라서, 1, 3, 6, 10, 15, 21, 28, 36, 45, 55, 66, 78, 91, 105, 120,..는 삼각수입니다. \n",
    ">\n",
    "> 양의 정수를 입력받아 삼각수에 해당하는지 확인하는 `is_triangular`를 작성하세요.\n",
    "\n",
    "```python\n",
    "# 예시)\n",
    "print(is_triangular(5050))\n",
    "print(is_triangular(57))\n",
    "\n",
    "True\n",
    "False\n",
    "```"
   ]
  },
  {
   "cell_type": "code",
   "execution_count": null,
   "metadata": {},
   "outputs": [],
   "source": [
    "# 아래에 코드를 작성하세요.\n",
    "10 이 들어온다면\n",
    "10 - 1 = 9\n",
    "9 - 2 = 7\n",
    "7 - 3 = 4\n",
    "4 - 4 = 0\n",
    "\n",
    "0이되는 순간 삼각수 라는 것을 알 수 있다. (역발상)"
   ]
  },
  {
   "cell_type": "code",
   "execution_count": null,
   "metadata": {},
   "outputs": [],
   "source": [
    "# 1부터 더해서 맞추려기 보다 1부터 빼가면서 찾아간다면?\n",
    "def is_triangular(number):\n",
    "    sub = 1 # 1부터 뺄거니까 1로 먼저 지정\n",
    "    while number > 0:\n",
    "        number -= sub # 뺄 수를 지정해주기 위해 sub 생성\n",
    "        sub += 1\n",
    "    return not number # 0 이 삼각수이기 때문에 False가 삼각수다. 하지만 문제상 삼각수를 True로 해주어야 하기 때문에 바꿔준다.(not)"
   ]
  },
  {
   "cell_type": "code",
   "execution_count": null,
   "metadata": {},
   "outputs": [],
   "source": [
    "# 해당 코드를 통해 올바른 결과가 나오는지 확인하세요.\n",
    "print(is_triangular(5050))\n",
    "print(is_triangular(57))"
   ]
  },
  {
   "cell_type": "markdown",
   "metadata": {},
   "source": [
    "# 나만의 딕셔너리 생성기\n",
    "\n",
    "> key의 리스트와 value의 리스트로 딕셔너리를 생성하여 return 하는 `create_dict(keys, values)` 함수를 작성하세요.\n",
    ">\n",
    ">만약에 value의 갯수가 key의 갯수보다 부족한 경우, None을 채워 넣어야 합니다. 반대로 key의 갯수가 부족한 경우, 초과하는 value들은 무시해도 됩니다.\n",
    "\n",
    "```python\n",
    "# 예시)\n",
    "print(create_dict(['a', 'b', 'c', 'd'], [1, 2, 3]))\n",
    "print(create_dict(['a', 'b', 'c'], [1, 2, 3, 4]))\n",
    "\n",
    "{'a': 1, 'b': 2, 'c': 3, 'd': None}\n",
    "{'a': 1, 'b': 2, 'c': 3}\n",
    "```"
   ]
  },
  {
   "cell_type": "code",
   "execution_count": null,
   "metadata": {},
   "outputs": [],
   "source": [
    "# 아래에 코드를 작성하세요.\n",
    "# 두 리스트를 비교해서 value 리스트가 더 짧다면 두 길이가 같아질때까지 value 리스트에 None을 append\n",
    "def create_dict(keys, values):\n",
    "    new_dict = {}\n",
    "    for i in range(len(keys)): # keys리스트의 길이만큼 돌아야 함. 키가 중심.\n",
    "        if i < len(values):\n",
    "            new_dict[keys[i]] = values[i]\n",
    "            # new_dict.update({keys[i]: values[i]})\n",
    "        else:\n",
    "            new_dict[keys[i]] = None\n",
    "            # new_dict.update({kets[i]: None})\n",
    "    return new_dict"
   ]
  },
  {
   "cell_type": "code",
   "execution_count": null,
   "metadata": {},
   "outputs": [],
   "source": [
    "# 2 zip\n",
    "# 두 리스트를 길이 비교를 해서 value 리스트가 더 짧다면 두 길이가 같아질때까지 value 리스트에 None 을 append\n",
    "def create_dict(keys, values):\n",
    "    while len(keys) > len(values): # values 가 계속 길어질 것 이기 때문. 그래서 저 부등호가 깨지는 즉, 같아지는 순간까지 None 추가\n",
    "        values.append(None)\n",
    "        \n",
    "    result = dict(zip(keys, values))\n",
    "    return result"
   ]
  },
  {
   "cell_type": "code",
   "execution_count": null,
   "metadata": {},
   "outputs": [],
   "source": [
    "# 3 zip\n",
    "# 두 리스트의 길이 차이(keys-values)가 0보다크다면 그 차이만큼 values에 None을 넣는다.\n",
    "def create_dict(keys, values):\n",
    "    diff = len(keys) - len(values)\n",
    "    if diff > 0:\n",
    "        values += [None] * diff\n",
    "    result = dict(zip(keys, values))\n",
    "    return result"
   ]
  },
  {
   "cell_type": "code",
   "execution_count": null,
   "metadata": {},
   "outputs": [],
   "source": [
    "# 해당 코드를 통해 올바른 결과가 나오는지 확인하세요.\n",
    "print(create_dict(['a', 'b', 'c', 'd'], [1, 2, 3]))\n",
    "print(create_dict(['a', 'b', 'c'], [1, 2, 3, 4]))"
   ]
  },
  {
   "cell_type": "markdown",
   "metadata": {},
   "source": [
    "# 딕셔너리 뒤집기\n",
    "\n",
    "> 딕셔너리는 기본적으로 key와 value로 이뤄져있습니다. \n",
    ">\n",
    "> 딕셔너리를 입력받아 value와 key를 뒤집은 결과를 반환하는 `dict_invert`를 만들어봅시다. \n",
    "\n",
    "```python\n",
    "# 예시)\n",
    "print(dict_invert({1: 10, 2: 20, 3: 30}))\n",
    "print(dict_invert({1: 10, 2: 20, 3: 30, 4: 30}))\n",
    "print(dict_invert({1: True, 2: True, 3: True}))\n",
    "\n",
    "{10: [1], 20: [2], 30: [3]}\n",
    "{10: [1], 20: [2], 30: [3, 4]}\n",
    "{True: [1, 2, 3]}\n",
    "```"
   ]
  },
  {
   "cell_type": "markdown",
   "metadata": {},
   "source": [
    "<img src=https://user-images.githubusercontent.com/52684457/61853226-5acbbc00-aef6-11e9-99d8-71f636063b87.png>"
   ]
  },
  {
   "cell_type": "markdown",
   "metadata": {},
   "source": [
    "append는 리스트[    ]에만 사용가능. "
   ]
  },
  {
   "cell_type": "code",
   "execution_count": null,
   "metadata": {},
   "outputs": [],
   "source": [
    "# 아래에 코드를 작성하세요.\n",
    "# items 로 반복해서 새로운 딕셔너리에 값은 키로 키는 값으로 넣는데, \n",
    "# 넣기 전에 값이 이미 새로운 딕셔너리 키값에 있다면 키를 그 값에 리스트로 넣어야 함.\n",
    "def dict_invert(my_dict):\n",
    "    result = {}\n",
    "    for key, value in my_dict.items():\n",
    "        if value in result:\n",
    "            result[value].append(key)\n",
    "        else:\n",
    "            result[value] = [key]\n",
    "    return result"
   ]
  },
  {
   "cell_type": "code",
   "execution_count": null,
   "metadata": {},
   "outputs": [],
   "source": [
    "# 해당 코드를 통해 올바른 결과가 나오는지 확인하세요.\n",
    "print(dict_invert({1: 10, 2: 20, 3: 30}))\n",
    "print(dict_invert({1: 10, 2: 20, 3: 30, 4: 30}))\n",
    "print(dict_invert({1: True, 2: True, 3: True}))\n",
    "\n"
   ]
  },
  {
   "cell_type": "markdown",
   "metadata": {},
   "source": [
    "# 시험 채점 시스템\n",
    "\n",
    "> 첫 번째 인자는 정답이 들어있는 리스트, 두 번째 인자는 사용자의 답이 들어있는 리스트입니다. 두 리스트는 비어있지 않으며 길이가 같습니다.\n",
    ">\n",
    "> 정답의 경우 +4점, 오답의 경우 -1점, 공백 응답(빈 문자열)의 경우 0점입니다. 만약, 점수가 0보다 작으면 0을 return 합니다.\n",
    ">\n",
    "> 위와 같이 시험 점수를 체크하는 함수 `check_score(real_answers, my_answers)` 을 작성하세요.\n",
    "\n",
    "\n",
    "\n",
    "```python\n",
    "# 예시)\n",
    "print(check_score(['a', 'a', 'b', 'b'], ['a', 'c', 'b', 'd']))\n",
    "print(check_score(['a', 'a', 'c', 'b'], ['a', 'a', 'b', '']))\n",
    "print(check_score(['a', 'a', 'b', 'c'], ['a', 'a', 'b', 'c']))\n",
    "print(check_score(['b', 'c', 'b', 'a'], ['', 'a', 'a', 'c'])\n",
    "\n",
    "6\n",
    "7\n",
    "16\n",
    "0\n",
    "```"
   ]
  },
  {
   "cell_type": "code",
   "execution_count": null,
   "metadata": {},
   "outputs": [],
   "source": [
    "# 여기에 코드를 작성하세요."
   ]
  },
  {
   "cell_type": "code",
   "execution_count": null,
   "metadata": {},
   "outputs": [],
   "source": [
    "def check_score(real_answers, my_answers):\n",
    "    score = 0\n",
    "    for i in range(len(real_answers)):\n",
    "        if real_answers[i] == my_answers[i]:\n",
    "            score += 4\n",
    "        elif my_answers[i] == '':\n",
    "            score += 0\n",
    "        else:\n",
    "            score -= 1\n",
    "            \n",
    "    return score if score >= 0 else 0"
   ]
  },
  {
   "cell_type": "code",
   "execution_count": 3,
   "metadata": {},
   "outputs": [],
   "source": [
    "# 2\n",
    "def check_score(real_answers, my_answers):\n",
    "    return max(0, sum([4 if real==my else -1 for real, my in zip(real_answers, my_answers) if my])) # 얘(my)가 True일 경우에만 앞의 if문으로 4나 -1을 sum으로 다 더할 것."
   ]
  },
  {
   "cell_type": "code",
   "execution_count": 4,
   "metadata": {
    "scrolled": true
   },
   "outputs": [
    {
     "name": "stdout",
     "output_type": "stream",
     "text": [
      "6\n",
      "7\n",
      "16\n",
      "0\n"
     ]
    }
   ],
   "source": [
    "# 해당 코드를 통해 올바른 결과가 나오는지 확인하세요.\n",
    "print(check_score(['a', 'a', 'b', 'b'], ['a', 'c', 'b', 'd']))\n",
    "print(check_score(['a', 'a', 'c', 'b'], ['a', 'a', 'b', '']))\n",
    "print(check_score(['a', 'a', 'b', 'c'], ['a', 'a', 'b', 'c']))\n",
    "print(check_score(['b', 'c', 'b', 'a'], ['', 'a', 'a', 'c']))"
   ]
  },
  {
   "cell_type": "code",
   "execution_count": null,
   "metadata": {},
   "outputs": [],
   "source": []
  }
 ],
 "metadata": {
  "kernelspec": {
   "display_name": "Python 3",
   "language": "python",
   "name": "python3"
  },
  "language_info": {
   "codemirror_mode": {
    "name": "ipython",
    "version": 3
   },
   "file_extension": ".py",
   "mimetype": "text/x-python",
   "name": "python",
   "nbconvert_exporter": "python",
   "pygments_lexer": "ipython3",
   "version": "3.7.3"
  },
  "latex_envs": {
   "LaTeX_envs_menu_present": true,
   "autoclose": false,
   "autocomplete": true,
   "bibliofile": "biblio.bib",
   "cite_by": "apalike",
   "current_citInitial": 1,
   "eqLabelWithNumbers": true,
   "eqNumInitial": 1,
   "hotkeys": {
    "equation": "Ctrl-E",
    "itemize": "Ctrl-I"
   },
   "labels_anchors": false,
   "latex_user_defs": false,
   "report_style_numbering": false,
   "user_envs_cfg": false
  },
  "toc": {
   "base_numbering": 1,
   "nav_menu": {},
   "number_sections": true,
   "sideBar": true,
   "skip_h1_title": false,
   "title_cell": "Table of Contents",
   "title_sidebar": "Contents",
   "toc_cell": false,
   "toc_position": {},
   "toc_section_display": true,
   "toc_window_display": false
  }
 },
 "nbformat": 4,
 "nbformat_minor": 2
}
