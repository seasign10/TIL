{
 "cells": [
  {
   "cell_type": "markdown",
   "metadata": {},
   "source": [
    "# 최대공약수, 최소공배수 구하기\n",
    "\n",
    "> 두 수를 입력받아 두 수의 최대공약수와 최소공배수를 반환하는 함수, gcdlcm을 완성해 보세요.\n",
    ">\n",
    "> 배열의 맨 앞에 최대공약수, 그다음 최소공배수를 넣어 반환하면 됩니다. \n",
    ">\n",
    "> 예를 들어 두 수 3, 12의 최대공약수는 3, 최소공배수는 12이므로 `gcdlcm(3, 12)`는 `(3, 12)`를 반환해야 합니다. \n",
    "\n",
    "예시)\n",
    "\n",
    "```python\n",
    "print(gcdlcm(3, 12)) #=> (3, 12)\n",
    "print(gcdlcm(1071, 1029)) #=> (21, 52479)\n",
    "```"
   ]
  },
  {
   "cell_type": "code",
   "execution_count": null,
   "metadata": {},
   "outputs": [],
   "source": [
    "# 여기에 코드를 작성하세요.\n",
    "# 최소공배수 = 두수의 곱 / 최대 공약수\n",
    "# 둘 중의 큰 수를 찾아서 작은 수로 나눠나가야 함. 더 이상 큰 수를 나눌 수 없을 때가 최대 공약수가 나오겠지?"
   ]
  },
  {
   "cell_type": "code",
   "execution_count": null,
   "metadata": {},
   "outputs": [],
   "source": [
    "def gcd(a, b):\n",
    "    if a < b:\n",
    "        (a, b) = (b, a)\n",
    "    while b != 0:\n",
    "        (a, b) = (b, a % b)\n",
    "    return a\n",
    "\n",
    "def gcdlcm(n, m):\n",
    "    return gcd(n,m), int(n*m/gcd(n,m))"
   ]
  },
  {
   "cell_type": "code",
   "execution_count": null,
   "metadata": {
    "scrolled": true
   },
   "outputs": [],
   "source": [
    "print(gcdlcm(3, 12))\n",
    "print(gcdlcm(1071, 1029))"
   ]
  },
  {
   "cell_type": "code",
   "execution_count": null,
   "metadata": {},
   "outputs": [],
   "source": [
    "def gcdlcm(n, m):\n",
    "    a, b = max(n, m), min(m, n)\n",
    "    \n",
    "    while b > 0:\n",
    "        a, b = b, a%b\n",
    "    return a, int(n*m / a)"
   ]
  },
  {
   "cell_type": "markdown",
   "metadata": {},
   "source": [
    "<img src=\"https://user-images.githubusercontent.com/52684457/61607913-c9591180-ac8b-11e9-9486-96e4d373f309.png\">"
   ]
  },
  {
   "cell_type": "markdown",
   "metadata": {},
   "source": [
    "# 불쌍한 달팽이 - 고전 수학문제\n",
    "\n",
    ">달팽이는 낮 시간 동안에 기둥을 올라갑니다. 하지만 밤에는 잠을 자면서 어느 정도의 거리만큼미끄러집니다. (낮 시간 동안 올라간 거리보다는 적게 미끄러집니다) 달팽이가 기둥의 꼭대기에 도달하는 날까지 걸리는 시간을 계산하면 됩니다.\n",
    "\n",
    "> 당신의 함수에 들어가야 하는 3개의 인자는 다음과 같습니다.\n",
    "- 기둥의 높이(미터)\n",
    "- 낮 시간 동안 달팽이가 올라가는 거리(미터)\n",
    "- 달팽이가 야간에 잠을 자는 동안 미끄러지는 거리(미터)\n",
    "\n",
    "```python\n",
    "snail(100, 5, 2)\n",
    "# => 33\n",
    "```"
   ]
  },
  {
   "cell_type": "code",
   "execution_count": null,
   "metadata": {},
   "outputs": [],
   "source": [
    "# 여기에 코드를 작성하세요\n",
    "# 달팽이가 올라가야 할 거리 => 기둥의 높이\n",
    "# 높이를 기준으로 낮시간 값은 높이 -낮시간 / 밤시간 값은 높이 +밤시간\n",
    "\n",
    "def snail(height, day, night):\n",
    "    count = 0\n",
    "    # 남은 높이가 0이되거나 0보다 작아지는 순간 반복문이 종료되어야 함\n",
    "    while True:\n",
    "        count += 1\n",
    "        height -= day\n",
    "        if height <= 0:\n",
    "            return count\n",
    "        # 밤시간이 오기전에 끝날수도 있기 때문에 낮시간에도 계속 체크를 해줘야 함.\n",
    "        height += night"
   ]
  },
  {
   "cell_type": "code",
   "execution_count": null,
   "metadata": {},
   "outputs": [],
   "source": [
    "print(snail(100, 5, 2))"
   ]
  },
  {
   "cell_type": "markdown",
   "metadata": {},
   "source": [
    "# 무엇이 중복일까\n",
    "\n",
    "> 다음 리스트에서 중복되는 요소만 뽑아서 새로운 리스트에 옮기시오. \n",
    "\n",
    "```python\n",
    "# 입력)\n",
    "duplicated(['a', 'b', 'c', 'b', 'd', 'm', 'n', 'n', 'b'])\n",
    "\n",
    "# 출력)\n",
    "['b', 'n']\n",
    "```"
   ]
  },
  {
   "cell_type": "code",
   "execution_count": null,
   "metadata": {
    "scrolled": false
   },
   "outputs": [],
   "source": [
    "# 여기에 코드를 작성하시오."
   ]
  },
  {
   "cell_type": "code",
   "execution_count": null,
   "metadata": {},
   "outputs": [],
   "source": [
    "# .count() 특정 리스트안에 ()가 몇 개인지 카운트 해주는것. \n",
    "def duplicated(words):\n",
    "    duplicates = []\n",
    "    for word in words:\n",
    "        # 만약에 현재 단어가 리스트에 2개이상 있고(중복이기 때문에), duplicated에 없다면 값을 추가해야 한다.\n",
    "        if words.count(word) > 1 and word not in duplicates:\n",
    "            duplicates.append(word)\n",
    "    return duplicates"
   ]
  },
  {
   "cell_type": "code",
   "execution_count": null,
   "metadata": {},
   "outputs": [],
   "source": [
    "# set()\n",
    "def duplicated(words):\n",
    "    return list({word for word in words if words.count(word) > 1}) \n",
    "    # 똑같은걸 넣어도 중복이 되지 않기때문에 (이미 있기 때문에) not in 구문을 넣지 않아도 됨."
   ]
  },
  {
   "cell_type": "code",
   "execution_count": null,
   "metadata": {},
   "outputs": [],
   "source": [
    "duplicated(['a', 'b', 'c', 'b', 'd', 'm', 'n', 'n', 'b'])"
   ]
  },
  {
   "cell_type": "markdown",
   "metadata": {},
   "source": [
    "# 알파벳만 남기고 뒤집기\n",
    "\n",
    "> 문자열이 주어지면, 해당 문자열 중에서 알파벳이 아닌 문자는 전부 빼고 거꾸로 뒤집어 반환하는 함수를 작성하세요.\n",
    "\n",
    "```python\n",
    "# 예시) \n",
    "reverse_letter('krishan')\n",
    "'nahsirk'\n",
    "\n",
    "reverse_letter('ultr53o?n')\n",
    "'nortlu'\n",
    "```"
   ]
  },
  {
   "cell_type": "code",
   "execution_count": null,
   "metadata": {},
   "outputs": [],
   "source": [
    "# 여기에 코드를 작성하세요\n",
    "# isdigit\n",
    "# isalpha\n",
    "# 사용하는 것이 좋음\n",
    "\n",
    "# isalpha함수는 문자열이 문자인지 아닌지를 True,False로 리턴해주고, \n",
    "# isdigit함수는 문자열이 숫자인지 아닌지를 True,False로 리턴해줍니다.\n",
    "# 말 그대로 문자열에 사용된 글자들이 ‘digit’인지를 확인하는 것이다. 아 그러니까 우리는 ‘이게 숫자로 된 문자열이네’라는 것을 알 수 있을 거라 추측한다. 그리고 digit, numeric, decimal은 다같이 ‘숫자’로 번역되기 때문에 이 사이의 차이가 뭔지를 정확하게 모르게 된다."
   ]
  },
  {
   "cell_type": "code",
   "execution_count": null,
   "metadata": {},
   "outputs": [],
   "source": [
    "# 1\n",
    "\n",
    "def reverse_letter(words):\n",
    "    result = []\n",
    "    for word in words:\n",
    "        if word.isalpha(): # 저장할 곳이 없으니 result를 만들어 주자\n",
    "            result.append(word)\n",
    "            \n",
    "    # result = [word for word in words if word.isalpha()] # 위의 4줄을 한 줄로 짠 것.\n",
    "    \n",
    "    return ''.join(result[::-1]) # reverse로 뒤집을 수도 있다."
   ]
  },
  {
   "cell_type": "code",
   "execution_count": null,
   "metadata": {},
   "outputs": [],
   "source": [
    "# 2 문자열에 고집하는것을 덜었지만 comprehension은 쓸 수없다.\n",
    "\n",
    "def reverse_letter(words):\n",
    "    result = ''\n",
    "    for word in words:\n",
    "        if word.isalpha():\n",
    "            result += word\n",
    "    return result[::-1]"
   ]
  },
  {
   "cell_type": "code",
   "execution_count": null,
   "metadata": {},
   "outputs": [],
   "source": [
    "print(reverse_letter('krishan'))\n",
    "print(reverse_letter('ultr53o?n'))"
   ]
  },
  {
   "cell_type": "code",
   "execution_count": null,
   "metadata": {},
   "outputs": [],
   "source": [
    "# 다른 분 풀이 (위의 매서드를 이용하지않은 것)\n",
    "def reverse_letter(letter):\n",
    "    result = []\n",
    "    alphabet = 'abcdefghijklmnopqrstuvwxyz' # 알파벳을 다 집어 넣어서 구분을 하는 방법도 있음.\n",
    "    for i in letter:\n",
    "        if i in alphabet:\n",
    "            result.append(i)\n",
    "    result.reverse()\n",
    "    return ''.join(result)"
   ]
  },
  {
   "cell_type": "markdown",
   "metadata": {},
   "source": [
    "# 편-안한 단어\n",
    "\n",
    "> (QWERTY 키보드를 사용하여 타이핑을 한다고 가정할 때) '편안한 단어'는 타이핑 할 때 **손을 번갈아 칠 수 있는 단어**를 말합니다.\n",
    ">\n",
    "> 단어를 인자로 받아 그것이 '편안한 단어'인지 여부를 True/False로 반환하는 함수를 만드세요.(모든 단어는 a ~ z까지 오름차순으로 구성된 문자열입니다.)\n",
    "\n",
    "> 문자 목록\n",
    "- 왼손: q, w, e, r, t, a, s, s, d, f, g, z, x, c, v, b\n",
    "- 오른손: y, u, i, o, p, h, j, k, l, n, m"
   ]
  },
  {
   "cell_type": "code",
   "execution_count": null,
   "metadata": {},
   "outputs": [],
   "source": [
    "# 여기에 코드를 작성하세요."
   ]
  },
  {
   "cell_type": "code",
   "execution_count": null,
   "metadata": {},
   "outputs": [],
   "source": [
    "# 왼손단어 => 오른손단어 => 왼손단어 => 오른손단어 ...\n",
    "def comfortable_word(words):\n",
    "    left_word, right_word = 'qwertasdfgzxcvb', 'yuiophjklnm'\n",
    "    # 왼손이면 True\n",
    "    left = True if words[0] in left_word else False\n",
    "    \n",
    "    # 2번째부터 비교 시작\n",
    "    for word in words[1:]: # 1번 부터 끝까지 [1:]\n",
    "        # 2번째 나온 단어가 왼손이고, 앞 단어도 왼손이라면 Flase\n",
    "        if word in left_word and left:\n",
    "            return False # 왼손 => 왼손 으로 연속으로 나왔기 때문에\n",
    "        # 2번째 나온 단어가 오른손이고, 앞단어도 오른손이라면 False\n",
    "        if word in right_word and not left:\n",
    "            return False\n",
    "        left = not left # 만약 위 조건들을(if) 모두 만족하지 못했다면 편안한 단어이기 때문에 왼손오른손이 변경된 것이다.\n",
    "    return True"
   ]
  },
  {
   "cell_type": "code",
   "execution_count": null,
   "metadata": {},
   "outputs": [],
   "source": [
    "print(comfortable_word('qywu'))\n",
    "print(comfortable_word('apple'))"
   ]
  },
  {
   "cell_type": "markdown",
   "metadata": {},
   "source": [
    "# 숫자패턴\n",
    "\n",
    ">원하는 행까지 아래의 패턴을 생성하는 함수를 작성하세요. 만약 인자가 0이나 음의 정수인 경우 빈 문자열('')로 반환하세요.\n",
    "> \n",
    "> 짝수가 인수로 전달되면 패턴은 통과된 짝수보다 작은 최대 홀수까지 계속되어야 합니다.\n",
    "\n",
    "```python\n",
    "# 예시 \n",
    "print(pattern(9)):\n",
    "\n",
    "1\n",
    "333\n",
    "55555\n",
    "7777777\n",
    "999999999\n",
    "\n",
    "print(pattern(6))\n",
    "1\n",
    "333\n",
    "55555\n",
    "```\n",
    "**유의\n",
    "패턴에 공백은 없습니다.**"
   ]
  },
  {
   "cell_type": "code",
   "execution_count": null,
   "metadata": {},
   "outputs": [],
   "source": [
    "# 여기에 코드를 작성하세요"
   ]
  },
  {
   "cell_type": "code",
   "execution_count": null,
   "metadata": {},
   "outputs": [],
   "source": [
    "# 1\n",
    "def pattern(n):\n",
    "    result = ''\n",
    "    if n % 2 ==0: # 짝수일 때\n",
    "        n -= 1\n",
    "    for x in range(1, n+1): # n+1을 해야 본인이 포함됨\n",
    "        if x % 2: # 홀수라면,\n",
    "            result += str(x) * x\n",
    "            if x != n:\n",
    "                result += '\\n'\n",
    "    return result"
   ]
  },
  {
   "cell_type": "code",
   "execution_count": 1,
   "metadata": {},
   "outputs": [],
   "source": [
    "# 2\n",
    "def pattern(n):\n",
    "    # 1부터 n까지의 홀수 리스트를 생성\n",
    "    odd = {x for x in range(1, n+1) if x%2}\n",
    "    result = ''\n",
    "    for i in odd:\n",
    "        result += str(i)*i + '\\n'\n",
    "    return result"
   ]
  },
  {
   "cell_type": "code",
   "execution_count": null,
   "metadata": {},
   "outputs": [],
   "source": [
    "# 3 \n",
    "def pattern(n):\n",
    "    result = [str(x)*x for x in range(1, n+1) if x%2]\n",
    "    return '\\n'.join(result) # 위의 식을 더 간단하게 함. 단, list기 때문에 join을 해줌"
   ]
  },
  {
   "cell_type": "code",
   "execution_count": 2,
   "metadata": {},
   "outputs": [
    {
     "name": "stdout",
     "output_type": "stream",
     "text": [
      "1\n",
      "333\n",
      "55555\n",
      "7777777\n",
      "999999999\n",
      "\n",
      "1\n",
      "333\n",
      "55555\n",
      "\n"
     ]
    }
   ],
   "source": [
    "# 해당 코드를 통해 올바른 결과가 나오는지 확인하세요.\n",
    "print(pattern(9))\n",
    "print(pattern(6))"
   ]
  },
  {
   "cell_type": "markdown",
   "metadata": {},
   "source": [
    "# 숫자가 좋아\n",
    "\n",
    "> 섞여있는 문자열 속에서 정수만 뽑아내 합을 반환하는 함수 `pick_and_sum`를 작성하세요.\n",
    "\n",
    "예시)\n",
    "```python\n",
    "print(pick_and_sum('The30quick20brown10f0x1203jumps914ov3r1349the102l4zy dog')) #=> 3635\n",
    "```"
   ]
  },
  {
   "cell_type": "code",
   "execution_count": null,
   "metadata": {},
   "outputs": [],
   "source": [
    "# isdecimal 우리가 흔히 생각하는 ‘숫자’와 같은 개념이다. 즉 '0123456789'의 구성으로 이루어진 10개의 글자. 말 그대로 int 타입으로 즉시 변환이 가능한 리터럴을 구성하는 문자를 말한다.\n",
    "# isnumeric"
   ]
  },
  {
   "cell_type": "code",
   "execution_count": null,
   "metadata": {},
   "outputs": [],
   "source": [
    "# 여기에 코드를 작성하세요."
   ]
  },
  {
   "cell_type": "code",
   "execution_count": null,
   "metadata": {},
   "outputs": [],
   "source": [
    "# 1\n",
    "# 결과를 낼 result 정수 하나\n",
    "# 잠시 저장해 둘 num 문자열 하나\n",
    "\n",
    "def pick_and_sum(words):\n",
    "    result = 0\n",
    "    num = '' # result에는 숫자의 합이 차곡차곡 쌓이고 result에는 정수를 뽑아내는 저장소로 사용하다가 문자열을 만나면 다시 비운다.\n",
    "    for word in words:\n",
    "        if word.isdecimal():\n",
    "            num += word\n",
    "        elif num: # num에 값이 차있는 상태라면,\n",
    "            result += int(num)\n",
    "            num = ''\n",
    "    return result"
   ]
  },
  {
   "cell_type": "code",
   "execution_count": null,
   "metadata": {},
   "outputs": [],
   "source": [
    "# 2 replace()\n",
    "# replace 로 정수가 아닌 애들을 모두 공백으로 바꿈.\n",
    "def pick_and_sum(words):\n",
    "    for word in words:\n",
    "        if not word.isdecimal(): # 정수가 아니라면\n",
    "            words = words.replace(word, ' ')\n",
    "#     print(words.split()) # 아무기준을 안주고 () 공백기준으로 리스트로 만들기\n",
    "    return sum(map(int, words.split()))"
   ]
  },
  {
   "cell_type": "code",
   "execution_count": null,
   "metadata": {},
   "outputs": [],
   "source": [
    "# 해당 코드를 통해 올바른 결과가 나오는지 확인하세요.\n",
    "print(pick_and_sum('The30quick20brown10f0x1203jumps914ov3r1349the102l4zy dog'))"
   ]
  }
 ],
 "metadata": {
  "kernelspec": {
   "display_name": "Python 3",
   "language": "python",
   "name": "python3"
  },
  "language_info": {
   "codemirror_mode": {
    "name": "ipython",
    "version": 3
   },
   "file_extension": ".py",
   "mimetype": "text/x-python",
   "name": "python",
   "nbconvert_exporter": "python",
   "pygments_lexer": "ipython3",
   "version": "3.7.3"
  },
  "latex_envs": {
   "LaTeX_envs_menu_present": true,
   "autoclose": false,
   "autocomplete": true,
   "bibliofile": "biblio.bib",
   "cite_by": "apalike",
   "current_citInitial": 1,
   "eqLabelWithNumbers": true,
   "eqNumInitial": 1,
   "hotkeys": {
    "equation": "Ctrl-E",
    "itemize": "Ctrl-I"
   },
   "labels_anchors": false,
   "latex_user_defs": false,
   "report_style_numbering": false,
   "user_envs_cfg": false
  },
  "toc": {
   "base_numbering": 1,
   "nav_menu": {},
   "number_sections": true,
   "sideBar": true,
   "skip_h1_title": false,
   "title_cell": "Table of Contents",
   "title_sidebar": "Contents",
   "toc_cell": false,
   "toc_position": {},
   "toc_section_display": true,
   "toc_window_display": false
  }
 },
 "nbformat": 4,
 "nbformat_minor": 2
}
